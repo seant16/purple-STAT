{
 "cells": [
  {
   "cell_type": "markdown",
   "metadata": {},
   "source": [
    "## Sean Tomlin  \n",
    "## Pandas Exam\n",
    "## Data Science with Python "
   ]
  },
  {
   "cell_type": "code",
   "execution_count": 1,
   "metadata": {},
   "outputs": [],
   "source": [
    "%matplotlib inline\n",
    "import pandas as pd\n",
    "import numpy as np\n",
    "import matplotlib\n",
    "import matplotlib.pyplot as plt\n",
    "plt.style.use('seaborn-whitegrid')\n",
    "matplotlib.rcParams['figure.figsize'] = (10.0, 4.0)"
   ]
  },
  {
   "cell_type": "markdown",
   "metadata": {},
   "source": [
    "IMPORTANT NOTE: For ALL transformations you are asked to apply to a data frame, make sure to transform the existing frame if possible instead of creating a new frame!!! You will lose points if you forget! Also, the only problem that might involve using any sort of a loop is problem 19! Using a loop for any other problem will result in loss of all points for that problem!"
   ]
  },
  {
   "cell_type": "code",
   "execution_count": 2,
   "metadata": {},
   "outputs": [],
   "source": [
    "rawdata = [{'Player':'Bob', 'Team':'Elron', 'Level':46, 'Weapon':'Mini-gun', 'Health':17},\n",
    "    {'Player':'Janet', 'Team':'Thor', 'Level':39, 'Weapon':'Tazer', 'Health':23, 'Advantage':'Elixir of Life'},\n",
    "    {'Player':'Tony', 'Team':'Elron', 'Level':23, 'Weapon':'Rocket Launcher', 'Health':26 },\n",
    "    {'Player':'Wanda', 'Team':'Thor',  'Level':42, 'Weapon':'Flame Thrower', 'Health':20, 'Advantage':'Invisibility'},\n",
    "    {'Player':'Cindy', 'Team':'Condor', 'Level':36, 'Weapon':'Plasma Rifle', 'Health':28 },\n",
    "    {'Player':'Ned', 'Team':'Condor',  'Level':40, 'Weapon':'Solar Projector', 'Health':19, 'Advantage':'Stealth'}          \n",
    "]"
   ]
  },
  {
   "cell_type": "markdown",
   "metadata": {},
   "source": [
    "Q1: Create a dataframe from the data above using default data frame creation. Set the 'Player' column to be the index of the frame. Print the frame."
   ]
  },
  {
   "cell_type": "code",
   "execution_count": 3,
   "metadata": {},
   "outputs": [
    {
     "name": "stdout",
     "output_type": "stream",
     "text": [
      "             Advantage  Health  Level Player    Team           Weapon\n",
      "Player                                                               \n",
      "Bob                NaN      17     46    Bob   Elron         Mini-gun\n",
      "Janet   Elixir of Life      23     39  Janet    Thor            Tazer\n",
      "Tony               NaN      26     23   Tony   Elron  Rocket Launcher\n",
      "Wanda     Invisibility      20     42  Wanda    Thor    Flame Thrower\n",
      "Cindy              NaN      28     36  Cindy  Condor     Plasma Rifle\n",
      "Ned            Stealth      19     40    Ned  Condor  Solar Projector\n"
     ]
    }
   ],
   "source": [
    "pdata = pd.DataFrame(rawdata)\n",
    "pdata.index = pdata.Player\n",
    "print(pdata)"
   ]
  },
  {
   "cell_type": "markdown",
   "metadata": {},
   "source": [
    "Q2: Change the order of the columns in the frame to be Team, Level, Health, Weapon, Advantage. Print the result."
   ]
  },
  {
   "cell_type": "code",
   "execution_count": 4,
   "metadata": {
    "scrolled": true
   },
   "outputs": [
    {
     "name": "stdout",
     "output_type": "stream",
     "text": [
      "          Team  Level  Health           Weapon       Advantage\n",
      "Player                                                        \n",
      "Bob      Elron     46      17         Mini-gun             NaN\n",
      "Janet     Thor     39      23            Tazer  Elixir of Life\n",
      "Tony     Elron     23      26  Rocket Launcher             NaN\n",
      "Wanda     Thor     42      20    Flame Thrower    Invisibility\n",
      "Cindy   Condor     36      28     Plasma Rifle             NaN\n",
      "Ned     Condor     40      19  Solar Projector         Stealth\n"
     ]
    }
   ],
   "source": [
    "pdata = pdata[['Team', 'Level', 'Health', 'Weapon', 'Advantage']]\n",
    "print(pdata)"
   ]
  },
  {
   "cell_type": "markdown",
   "metadata": {},
   "source": [
    "Q3: Sort the frame in decending order of Health. Print the frame."
   ]
  },
  {
   "cell_type": "code",
   "execution_count": 5,
   "metadata": {},
   "outputs": [
    {
     "name": "stdout",
     "output_type": "stream",
     "text": [
      "          Team  Level  Health           Weapon       Advantage\n",
      "Player                                                        \n",
      "Cindy   Condor     36      28     Plasma Rifle             NaN\n",
      "Tony     Elron     23      26  Rocket Launcher             NaN\n",
      "Janet     Thor     39      23            Tazer  Elixir of Life\n",
      "Wanda     Thor     42      20    Flame Thrower    Invisibility\n",
      "Ned     Condor     40      19  Solar Projector         Stealth\n",
      "Bob      Elron     46      17         Mini-gun             NaN\n"
     ]
    }
   ],
   "source": [
    "pdata = pdata.sort_values(by='Health', ascending = False)\n",
    "print(pdata)"
   ]
  },
  {
   "cell_type": "markdown",
   "metadata": {},
   "source": [
    "Q4: Move Tony up 1 level by adding 1. Print the frame."
   ]
  },
  {
   "cell_type": "code",
   "execution_count": 6,
   "metadata": {},
   "outputs": [
    {
     "name": "stdout",
     "output_type": "stream",
     "text": [
      "          Team  Level  Health           Weapon       Advantage\n",
      "Player                                                        \n",
      "Cindy   Condor     36      28     Plasma Rifle             NaN\n",
      "Tony     Elron     24      26  Rocket Launcher             NaN\n",
      "Janet     Thor     39      23            Tazer  Elixir of Life\n",
      "Wanda     Thor     42      20    Flame Thrower    Invisibility\n",
      "Ned     Condor     40      19  Solar Projector         Stealth\n",
      "Bob      Elron     46      17         Mini-gun             NaN\n"
     ]
    }
   ],
   "source": [
    "pdata.loc['Tony','Level'] += 1\n",
    "print(pdata)"
   ]
  },
  {
   "cell_type": "markdown",
   "metadata": {},
   "source": [
    "Q5: Increment everyone's health by 2. Print the frame."
   ]
  },
  {
   "cell_type": "code",
   "execution_count": 7,
   "metadata": {},
   "outputs": [
    {
     "name": "stdout",
     "output_type": "stream",
     "text": [
      "          Team  Level  Health           Weapon       Advantage\n",
      "Player                                                        \n",
      "Cindy   Condor     36      30     Plasma Rifle             NaN\n",
      "Tony     Elron     24      28  Rocket Launcher             NaN\n",
      "Janet     Thor     39      25            Tazer  Elixir of Life\n",
      "Wanda     Thor     42      22    Flame Thrower    Invisibility\n",
      "Ned     Condor     40      21  Solar Projector         Stealth\n",
      "Bob      Elron     46      19         Mini-gun             NaN\n"
     ]
    }
   ],
   "source": [
    "pdata['Health'] += 2\n",
    "print(pdata)"
   ]
  },
  {
   "cell_type": "markdown",
   "metadata": {},
   "source": [
    "Q6: Add Charlie to the frame. He belongs to the Elron team, is on Level 38, has a health of 29, has a C4 Explosive weapon. Charlie has no advantage so that column should contain the NaN value. Print the frame."
   ]
  },
  {
   "cell_type": "code",
   "execution_count": 8,
   "metadata": {},
   "outputs": [
    {
     "name": "stdout",
     "output_type": "stream",
     "text": [
      "           Team  Level  Health           Weapon       Advantage\n",
      "Cindy    Condor     36      30     Plasma Rifle             NaN\n",
      "Tony      Elron     24      28  Rocket Launcher             NaN\n",
      "Janet      Thor     39      25            Tazer  Elixir of Life\n",
      "Wanda      Thor     42      22    Flame Thrower    Invisibility\n",
      "Ned      Condor     40      21  Solar Projector         Stealth\n",
      "Bob       Elron     46      19         Mini-gun             NaN\n",
      "Charlie   Elron     38      29     C4 Explosive             NaN\n"
     ]
    }
   ],
   "source": [
    "newplayer = pd.DataFrame([{'Team':'Elron', 'Level':38,'Health':29, 'Weapon':'C4 Explosive'}], index=['Charlie'])\n",
    "pdata = pd.concat([pdata, newplayer], sort = False)\n",
    "print(pdata)\n"
   ]
  },
  {
   "cell_type": "markdown",
   "metadata": {},
   "source": [
    "Q7: Tony is no longer available and must be dropped from the frame. Print the frame."
   ]
  },
  {
   "cell_type": "code",
   "execution_count": 9,
   "metadata": {},
   "outputs": [
    {
     "name": "stdout",
     "output_type": "stream",
     "text": [
      "           Team  Level  Health           Weapon       Advantage\n",
      "Cindy    Condor     36      30     Plasma Rifle             NaN\n",
      "Janet      Thor     39      25            Tazer  Elixir of Life\n",
      "Wanda      Thor     42      22    Flame Thrower    Invisibility\n",
      "Ned      Condor     40      21  Solar Projector         Stealth\n",
      "Bob       Elron     46      19         Mini-gun             NaN\n",
      "Charlie   Elron     38      29     C4 Explosive             NaN\n"
     ]
    }
   ],
   "source": [
    "pdata.drop(['Tony'], inplace = True)\n",
    "print(pdata)"
   ]
  },
  {
   "cell_type": "markdown",
   "metadata": {},
   "source": [
    "Q8: Print the health and advantage in this order for players from Cindy thru Wanda."
   ]
  },
  {
   "cell_type": "code",
   "execution_count": 10,
   "metadata": {},
   "outputs": [
    {
     "name": "stdout",
     "output_type": "stream",
     "text": [
      "       Health       Advantage\n",
      "Cindy      30             NaN\n",
      "Janet      25  Elixir of Life\n",
      "Wanda      22    Invisibility\n"
     ]
    }
   ],
   "source": [
    "print(pdata.loc['Cindy':'Wanda'][['Health','Advantage']])"
   ]
  },
  {
   "cell_type": "markdown",
   "metadata": {},
   "source": [
    "Q9: Print all player info if they are above level 38 and their health is more than 20."
   ]
  },
  {
   "cell_type": "code",
   "execution_count": 11,
   "metadata": {},
   "outputs": [
    {
     "name": "stdout",
     "output_type": "stream",
     "text": [
      "         Team  Level  Health           Weapon       Advantage\n",
      "Janet    Thor     39      25            Tazer  Elixir of Life\n",
      "Wanda    Thor     42      22    Flame Thrower    Invisibility\n",
      "Ned    Condor     40      21  Solar Projector         Stealth\n"
     ]
    }
   ],
   "source": [
    "print(pdata[(pdata['Level']>38) & (pdata['Health']>20) ])"
   ]
  },
  {
   "cell_type": "markdown",
   "metadata": {},
   "source": [
    "Q10: Replace all NaN values in the Advantage column with the string 'None'. Print the result."
   ]
  },
  {
   "cell_type": "code",
   "execution_count": 12,
   "metadata": {},
   "outputs": [
    {
     "name": "stdout",
     "output_type": "stream",
     "text": [
      "           Team  Level  Health           Weapon       Advantage\n",
      "Cindy    Condor     36      30     Plasma Rifle            None\n",
      "Janet      Thor     39      25            Tazer  Elixir of Life\n",
      "Wanda      Thor     42      22    Flame Thrower    Invisibility\n",
      "Ned      Condor     40      21  Solar Projector         Stealth\n",
      "Bob       Elron     46      19         Mini-gun            None\n",
      "Charlie   Elron     38      29     C4 Explosive            None\n"
     ]
    }
   ],
   "source": [
    "pdata['Advantage'].fillna(value='None',inplace=True)\n",
    "print(pdata)"
   ]
  },
  {
   "cell_type": "markdown",
   "metadata": {},
   "source": [
    "Q11: Create a function that given a row calculates a score which is the product of the health and level columns plus 100 if the player has an advantage (not 'None'). Create a Score column by applying the function to the frame. Print the frame."
   ]
  },
  {
   "cell_type": "code",
   "execution_count": 13,
   "metadata": {},
   "outputs": [
    {
     "name": "stdout",
     "output_type": "stream",
     "text": [
      "           Team  Level  Health           Weapon       Advantage  Score\n",
      "Cindy    Condor     36      30     Plasma Rifle            None      0\n",
      "Janet      Thor     39      25            Tazer  Elixir of Life   1075\n",
      "Wanda      Thor     42      22    Flame Thrower    Invisibility   1024\n",
      "Ned      Condor     40      21  Solar Projector         Stealth    940\n",
      "Bob       Elron     46      19         Mini-gun            None      0\n",
      "Charlie   Elron     38      29     C4 Explosive            None      0\n"
     ]
    }
   ],
   "source": [
    "def powerup(player):\n",
    "    if player['Advantage'] == 'None':\n",
    "        return 0\n",
    "    return player['Health']*player['Level'] + 100\n",
    "\n",
    "pdata['Score'] = pdata.apply(powerup, axis = 1)\n",
    "print(pdata)"
   ]
  },
  {
   "cell_type": "markdown",
   "metadata": {},
   "source": [
    "Q12: Create a dataframe from the planets.csv file. The first column should be used as the index. The frame should only contain the index and the method, number, and year columns from the file. Print the head of the dataframe."
   ]
  },
  {
   "cell_type": "code",
   "execution_count": 14,
   "metadata": {},
   "outputs": [
    {
     "name": "stdout",
     "output_type": "stream",
     "text": [
      "            method  number  year\n",
      "0  Radial Velocity       1  2006\n",
      "1  Radial Velocity       1  2008\n",
      "2  Radial Velocity       1  2011\n",
      "3  Radial Velocity       1  2007\n",
      "4  Radial Velocity       1  2009\n"
     ]
    }
   ],
   "source": [
    "planets = pd.read_csv(\"planets.csv\", index_col = 0, usecols = ['Unnamed: 0','method','number','year'])\n",
    "print(planets.head())"
   ]
  },
  {
   "cell_type": "markdown",
   "metadata": {},
   "source": [
    "Q13: Add a column to the dataframe which represents the decade within which the year occurred. Use vectorized operations to do this. When finished, the resulting column should be of type string with all values ending with an 's'. Print the head of the frame."
   ]
  },
  {
   "cell_type": "code",
   "execution_count": 15,
   "metadata": {},
   "outputs": [
    {
     "name": "stdout",
     "output_type": "stream",
     "text": [
      "            method  number  year decade\n",
      "0  Radial Velocity       1  2006  2000s\n",
      "1  Radial Velocity       1  2008  2000s\n",
      "2  Radial Velocity       1  2011  2010s\n",
      "3  Radial Velocity       1  2007  2000s\n",
      "4  Radial Velocity       1  2009  2000s\n"
     ]
    }
   ],
   "source": [
    "planets['decade'] = ((planets['year']/10).apply(np.floor)*10).astype(int).astype(str) + 's'\n",
    "print(planets.head())"
   ]
  },
  {
   "cell_type": "markdown",
   "metadata": {},
   "source": [
    "Q14: Using groupby along with stacking or unstacking, create a dataframe which for each method shows the number of planets discovered in each decade. The methods are the row index and the decades are the columns. Fill all NaNs with zeros. Print the entire frame."
   ]
  },
  {
   "cell_type": "code",
   "execution_count": 16,
   "metadata": {},
   "outputs": [
    {
     "name": "stdout",
     "output_type": "stream",
     "text": [
      "                              number                    \n",
      "decade                         1980s 1990s  2000s  2010s\n",
      "method                                                  \n",
      "Astrometry                       0.0   0.0    0.0    2.0\n",
      "Eclipse Timing Variations        0.0   0.0    3.0    6.0\n",
      "Imaging                          0.0   0.0   20.0   18.0\n",
      "Microlensing                     0.0   0.0   10.0   13.0\n",
      "Orbital Brightness Modulation    0.0   0.0    0.0    3.0\n",
      "Pulsar Timing                    0.0   3.0    1.0    1.0\n",
      "Pulsation Timing Variations      0.0   0.0    1.0    0.0\n",
      "Radial Velocity                  1.0  28.0  309.0  215.0\n",
      "Transit                          0.0   0.0   62.0  335.0\n",
      "Transit Timing Variations        0.0   0.0    0.0    4.0\n"
     ]
    }
   ],
   "source": [
    "planetCount = planets.groupby(['method','decade']).count()\n",
    "planetCount.drop('year',axis=1, inplace = True)\n",
    "planetCount = planetCount.unstack()\n",
    "planetCount.fillna(value=0, inplace=True)\n",
    "print(planetCount)"
   ]
  },
  {
   "cell_type": "markdown",
   "metadata": {},
   "source": [
    "Q15: Create a dataframe from the titanic.csv file. Use column 0 as the index. The frame should only contain data for the survived, sex, fare, and class columns. From this dataframe, create a pivot table that shows the average fares for males and females in each class, and the number of surviving males and females in each class. The row index should be the class values. Use margins to include averages for all males, females, and all passengers in each class. Print the entire frame."
   ]
  },
  {
   "cell_type": "code",
   "execution_count": 17,
   "metadata": {},
   "outputs": [
    {
     "name": "stdout",
     "output_type": "stream",
     "text": [
      "              fare                       survived          \n",
      "sex         female       male        All   female male  All\n",
      "class                                                      \n",
      "First   106.125798  67.226127  84.154687       91   45  136\n",
      "Second   21.970121  19.741782  20.662183       70   17   87\n",
      "Third    16.118810  12.661633  13.675550       72   47  119\n",
      "All      44.479818  25.523893  32.204208      233  109  342\n"
     ]
    }
   ],
   "source": [
    "titanic = pd.read_csv(\"titanic.csv\", index_col = 0, usecols=['Unnamed: 0','survived','sex','fare','class'])\n",
    "\n",
    "ptable = pd.pivot_table(titanic, columns='sex', values=['fare','survived'], index = 'class', margins=True, \n",
    "                       aggfunc={'survived':sum, 'fare':'mean'}) \n",
    "print(ptable)"
   ]
  },
  {
   "cell_type": "markdown",
   "metadata": {},
   "source": [
    "Q16: Create a bar plot that shows the survival percentage of males and females and all passengers on a per class basis. Use data from the pivot table in the previous problem. The width of the bars should be .25. The plot should look similar to the one shown below. "
   ]
  },
  {
   "cell_type": "code",
   "execution_count": 18,
   "metadata": {},
   "outputs": [
    {
     "data": {
      "text/plain": [
       "(array([0, 1, 2, 3]), <a list of 4 Text xticklabel objects>)"
      ]
     },
     "execution_count": 18,
     "metadata": {},
     "output_type": "execute_result"
    },
    {
     "data": {
      "image/png": "[encoded data removed]",
      "text/plain": [
       "<Figure size 432x288 with 1 Axes>"
      ]
     },
     "metadata": {},
     "output_type": "display_data"
    }
   ],
   "source": [
    "totals = titanic.groupby(['class','sex'])['sex'].count()\n",
    "classTotals = titanic.groupby(['class'])['sex'].count()\n",
    "\n",
    "maleT = titanic['sex'][titanic['sex'] == 'male'].size\n",
    "femaleT = titanic['sex'][titanic['sex'] == 'female'].size\n",
    "allT = titanic['sex'].size\n",
    "\n",
    "surv = ptable.loc[:,'survived'].copy()    #make a copy of the dataframe -- avoids SettingWithCopy Warning\n",
    "surv['female%'] = surv.loc[:,'female'] / totals.loc[:,'female']\n",
    "surv.loc[:,'male%'] = surv.loc[:,'male'] / totals.loc[:,'male']\n",
    "surv.loc[:,'All%'] = surv.loc[:,'All'] / classTotals\n",
    "surv.loc['All','female%'] = surv.loc['All','female'] / femaleT\n",
    "surv.loc['All','male%'] = surv.loc['All','male'] / maleT\n",
    "surv.loc['All','All%'] = surv.loc['All','All'] / allT\n",
    "\n",
    "percentSurvived = surv.loc[:,['female%', 'male%','All%']]\n",
    "percentSurvived *=100\n",
    "percentSurvived.columns = ['Female','Male','Combined']\n",
    "percentSurvived.index = ['1st Class','2nd Class','3rd Class', 'All Classes']\n",
    "\n",
    "# sets bar width to .75, so now each bar has three containers with length 0.25\n",
    "ax = percentSurvived.plot(kind='bar', title='Titanic Passenger Survivor Percentages', width=.75)\n",
    "ax.set_ylabel('Percent Survived')\n",
    "plt.xticks(rotation = 0)\n"
   ]
  },
  {
   "cell_type": "markdown",
   "metadata": {},
   "source": [
    "Q17: Read in the ColumbusPrecipData.csv file. This file contains hourly precipitation amounts in Columbus covering a 14 year period. The first column is a date and time. The second column is measured precipitation in inches. Create the dataframe such that it has a datetime index created from column 0. Using resample over a quarterly period, create a plot that shows the quarterly precipitation total amounts over the 14 year period. The plot should appear similar to the one shown below."
   ]
  },
  {
   "cell_type": "code",
   "execution_count": 19,
   "metadata": {
    "scrolled": true
   },
   "outputs": [
    {
     "data": {
      "text/plain": [
       "(120, 176)"
      ]
     },
     "execution_count": 19,
     "metadata": {},
     "output_type": "execute_result"
    },
    {
     "data": {
      "image/png": "[encoded data removed]",
      "text/plain": [
       "<Figure size 432x288 with 1 Axes>"
      ]
     },
     "metadata": {},
     "output_type": "display_data"
    }
   ],
   "source": [
    "cbusRain = pd.read_csv(\"ColumbusPrecipData.csv\", index_col = 0, parse_dates = True, infer_datetime_format = True)\n",
    "\n",
    "quarterly = pd.DataFrame()\n",
    "quarterly['Resample'] = cbusRain['Precip'].resample('Q').sum()\n",
    "ax1 = quarterly.plot(title='Columbus Quarterly Precipitation Amounts', color='g')\n",
    "ax1.set_ylabel('Precipitation (Inches)')\n",
    "plt.xticks(rotation = 45)\n",
    "ax1.set_xlim('2000', '2014')"
   ]
  },
  {
   "cell_type": "markdown",
   "metadata": {},
   "source": [
    "Q18: Create a plot showing the average monthly precipitation and the monthly standard deviation. Plot both values on the same axes. The plot should look similar to the one below."
   ]
  },
  {
   "cell_type": "code",
   "execution_count": 20,
   "metadata": {
    "scrolled": true
   },
   "outputs": [
    {
     "data": {
      "text/plain": [
       "<matplotlib.legend.Legend at 0x1fae032b4e0>"
      ]
     },
     "execution_count": 20,
     "metadata": {},
     "output_type": "execute_result"
    },
    {
     "data": {
      "image/png": "[encoded data removed]",
      "text/plain": [
       "<Figure size 432x288 with 1 Axes>"
      ]
     },
     "metadata": {},
     "output_type": "display_data"
    }
   ],
   "source": [
    "monthly = pd.DataFrame()\n",
    "monthly['Monthly Avg'] = cbusRain['Precip'].resample('M').sum()\n",
    "monthlyRain = pd.DataFrame()\n",
    "monthlyRain['Monthly Avg'] = monthly.groupby(monthly.index.month)['Monthly Avg'].mean()\n",
    "monthlyRain['Monthly Std'] = monthly.groupby(monthly.index.month)['Monthly Avg'].std()\n",
    "\n",
    "axes = plt.subplot()\n",
    "axes.set_title('Columbus Monthly Precipitation Average and Standard Deviation')\n",
    "monthLabels= ['JAN','FEB','MAR','APR','MAY','JUN','JUL','AUG','SEP','OCT','NOV','DEC']\n",
    "axes.plot(monthLabels, monthlyRain['Monthly Avg'],  color='g')\n",
    "axes.plot(monthLabels, monthlyRain['Monthly Std'], color='red')\n",
    "axes.set_ylabel(\"Precipitation (Inches)\")\n",
    "axes.legend(loc='best')"
   ]
  },
  {
   "cell_type": "markdown",
   "metadata": {},
   "source": [
    "Q19: Create a dataframe that contains the number of days Columbus had precipitation for each month of each year covered by the original data frame. This will involve resampling, groupby, and a custom function. The final result should be a data frame with the row index being the years and the column index being the months."
   ]
  },
  {
   "cell_type": "code",
   "execution_count": 21,
   "metadata": {},
   "outputs": [
    {
     "name": "stdout",
     "output_type": "stream",
     "text": [
      "      Rain Day Count                                            \n",
      "month             1   2   3   4   5   6   7   8   9   10  11  12\n",
      "year                                                            \n",
      "2000              17  14   8  10  13  10   7  12  13   5  13  17\n",
      "2001              10  10   9  11  17  13  11  10   7   8   9  12\n",
      "2002              10   9  12  16  17  11   6   7   7  10   9  14\n",
      "2003              15  17  13   9  19  12  16  13  12   8  12  14\n",
      "2004              14   8  17  15  21  14  15   9   6  11  17  13\n",
      "2005              16  12  12  14  12   9  13  11   7  10  14  16\n",
      "2006              14   8  14  13  16  11  13  10  12  13  10   9\n",
      "2007              18  10  13  14   8   9   9  10   5  10  10  14\n",
      "2008              14  16  13  13  16  16   7   7   8   6   7  17\n",
      "2009              15   6   7  13   9   9  11  10  13  13   8  14\n",
      "2010              16  13  11   7  16  14   9   7   7  10   9  12\n",
      "2011              13  11  12  19  16  15  10   7  18  12  10  16\n",
      "2012              17  11  12  10   7   7   9   8  11  18   4  18\n",
      "2013              14  14  13  10   9  12  12   9   6  13  11  16\n"
     ]
    }
   ],
   "source": [
    "dailyRain = cbusRain.resample('1d').sum()\n",
    "B = dailyRain.groupby([dailyRain.index.year,dailyRain.index.month]).sum()\n",
    "raindays = dailyRain['Precip'][dailyRain.Precip != 0]\n",
    "C = raindays.groupby([raindays.index.year,raindays.index.month]).count()\n",
    "raindayCount = pd.DataFrame(C)\n",
    "raindayCount.index.rename(('year','month'), inplace=True)\n",
    "raindayCount.columns = ['Rain Day Count']\n",
    "raindayCount1 = raindayCount.unstack()\n",
    "print(raindayCount1)"
   ]
  },
  {
   "cell_type": "markdown",
   "metadata": {},
   "source": [
    "Q20: Plot the result from the previous question. The plot should show the min, max, and average precipitation days per month on the same axes and should look similar to the plot shown below."
   ]
  },
  {
   "cell_type": "code",
   "execution_count": 22,
   "metadata": {
    "scrolled": true
   },
   "outputs": [
    {
     "data": {
      "text/plain": [
       "Text(0,0.5,'Precipitation Days Per Month')"
      ]
     },
     "execution_count": 22,
     "metadata": {},
     "output_type": "execute_result"
    },
    {
     "data": {
      "image/png": "[encoded data removed]",
      "text/plain": [
       "<Figure size 432x288 with 1 Axes>"
      ]
     },
     "metadata": {},
     "output_type": "display_data"
    }
   ],
   "source": [
    "raindayCount.reset_index(inplace=True)\n",
    "mindays = raindayCount.groupby(raindayCount['month'])['Rain Day Count'].min()\n",
    "maxdays = raindayCount.groupby(raindayCount['month'])['Rain Day Count'].max()\n",
    "avgdays = raindayCount.groupby(raindayCount['month'])['Rain Day Count'].mean()\n",
    "\n",
    "monthLabels= ['JAN','FEB','MAR','APR','MAY','JUN','JUL','AUG','SEP','OCT','NOV','DEC']\n",
    "\n",
    "axes = plt.subplot()\n",
    "axes.plot(monthLabels, mindays, label='Min Precip Days', color='red')\n",
    "axes.plot(monthLabels, maxdays, label='Max Precip Days', color='green')\n",
    "axes.plot(monthLabels, avgdays, label='Avg Precip Days', color='blue')\n",
    "axes.legend(loc='best')\n",
    "axes.set_title('Columbus Monthly Precipitation Days')\n",
    "axes.set_ylabel('Precipitation Days Per Month')"
   ]
  }
 ],
 "metadata": {
  "kernelspec": {
   "display_name": "Python 3",
   "language": "python",
   "name": "python3"
  },
  "language_info": {
   "codemirror_mode": {
    "name": "ipython",
    "version": 3
   },
   "file_extension": ".py",
   "mimetype": "text/x-python",
   "name": "python",
   "nbconvert_exporter": "python",
   "pygments_lexer": "ipython3",
   "version": "3.6.5"
  }
 },
 "nbformat": 4,
 "nbformat_minor": 2
}
